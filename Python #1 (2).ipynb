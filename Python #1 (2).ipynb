{
 "cells": [
  {
   "cell_type": "markdown",
   "metadata": {},
   "source": [
    "# <font size=\"15\"> Python #1 </font>\n",
    "## Table of Contents:\n",
    "1. [Python](#section1)  \n",
    "    1.1 [What can Python do?](#section1.1)  \n",
    "    1.2 [Why Python?](#section1.2)  \n",
    "      1.3 [Python Syntax compared to other programming languages](#section1.3) \n",
    "2. [Jupyter Notebook](#section2)  \n",
    "    2.1 [Strings](#section2.1)  \n",
    "    2.2 [Cells](#section2.2)  \n",
    "    2.3 [Jupyter Notebook Shortcuts](#section2.3)   \n",
    "3. [Numbers](#section3)  \n",
    "    3.1 [Data Types](#section3.1)  \n",
    "    3.2 [Basic Arithmetic Operations](#section3.2)   \n",
    "   \n",
    "## Contact:\n",
    "[Hailey Tran](mailto:hailey.tran@berkeley.edu) \n",
    "\n",
    "\n",
    "After today you will know:\n",
    "1. The importance of the Python language\n",
    "2. How to navigate through Jupyter Notebooks \n",
    "3. write and comprehend basic Python arithmetic expressions "
   ]
  },
  {
   "cell_type": "markdown",
   "metadata": {},
   "source": [
    "<a id='section1'></a>\n",
    "# Part 1: What is Python?"
   ]
  },
  {
   "cell_type": "markdown",
   "metadata": {},
   "source": [
    "<a id='section1.1'></a>\n",
    "### 1.1 What can Python do?\n",
    "\n",
    "Here are some cool things you can do with Python:\n",
    "   - Python can be used for web development\n",
    "   - Python can be used for scientific and numeric computing\n",
    "   - Python makes machine learning, artificial intelligence, and robotics possible"
   ]
  },
  {
   "cell_type": "markdown",
   "metadata": {},
   "source": [
    "<a id='section1.2'></a>\n",
    "### 1.2 Why Python?\n",
    "\n",
    "- Python works on different platforms (Windows, Mac,etc).\n",
    "- Python has syntax that allows developers to write programs with fewer lines than some other programming languages.\n",
    "- Python runs on an interpreter system, meaning that code can be executed as soon as it is written. This means that prototyping can be very quick."
   ]
  },
  {
   "cell_type": "markdown",
   "metadata": {},
   "source": [
    "<a id='section1.3'></a>\n",
    "### 1.3 Python Syntax compared to other programming languages\n",
    "\n",
    "- Python was designed for readability, and has a simple syntax similar to the English language\n",
    "- Python uses new lines to complete a command, as opposed to other programming languages which often use semicolons or parentheses.\n",
    "- Python relies on indentation to define scope; such as the scope of loops, functions and classes. Other programming languages often use curly-brackets for this purpose."
   ]
  },
  {
   "cell_type": "markdown",
   "metadata": {},
   "source": [
    "<a id='section2'></a>\n",
    "# Part 2: Jupyter Notebooks"
   ]
  },
  {
   "cell_type": "markdown",
   "metadata": {},
   "source": [
    "<a id='section2.1'></a>\n",
    "### 2.1 Strings\n",
    "\n",
    "A `string` is a programming term in Python meaning a sequence of characters. This can include anything such as  words, numbers, symbols, a single character, a whole book, etc.\n",
    "\n",
    "To create a string, put double quotes`(\")` or single quotes`(')` around the characters. Make sure the opening and ending quotes match.\n",
    "\n",
    "`\"hello\"` is the same thing as `'hello'`\n",
    "\n",
    "You can output or display a string using the `print` statement. \n",
    "\n",
    "Run the cell below."
   ]
  },
  {
   "cell_type": "code",
   "execution_count": 4,
   "metadata": {},
   "outputs": [
    {
     "name": "stdout",
     "output_type": "stream",
     "text": [
      "hello world\n"
     ]
    }
   ],
   "source": [
    "print(\"hello world\")"
   ]
  },
  {
   "cell_type": "markdown",
   "metadata": {},
   "source": [
    "**Exercise 2.1.1** Fill in the print statement below telling me what you're most excited about for summer and then print it out."
   ]
  },
  {
   "cell_type": "code",
   "execution_count": null,
   "metadata": {},
   "outputs": [],
   "source": [
    "print(\"I am excited about the beach\")"
   ]
  },
  {
   "cell_type": "markdown",
   "metadata": {},
   "source": [
    "<a id='section2.2'></a>\n",
    "### 2.2 Cells\n",
    "    - A cell is any rectangle with text in it.\n",
    "    - To add a cell, click \"Insert\" above at the toolbar and choose an option."
   ]
  },
  {
   "cell_type": "markdown",
   "metadata": {},
   "source": [
    "**Code**\n",
    "   - The language you will be learning in this notebook is Python \n",
    "   - To run and execute all the code in a cell, press the ▶| button in the toolbar \n",
    "\n",
    "Try running these cells:"
   ]
  },
  {
   "cell_type": "code",
   "execution_count": null,
   "metadata": {},
   "outputs": [],
   "source": [
    "print(\"Python is fun!\")"
   ]
  },
  {
   "cell_type": "code",
   "execution_count": null,
   "metadata": {},
   "outputs": [],
   "source": [
    "print(\"\\N{WAVING HAND SIGN}, \\N{EARTH GLOBE ASIA-AUSTRALIA}!\")"
   ]
  },
  {
   "cell_type": "markdown",
   "metadata": {},
   "source": [
    "Code is usually seperated into their own lines. When you run a cell, the lines of code will be outputted in the order in which they appear. \n",
    "\n",
    "Try running the next line."
   ]
  },
  {
   "cell_type": "code",
   "execution_count": null,
   "metadata": {},
   "outputs": [],
   "source": [
    "print('I like apples')\n",
    "print('out of all the fruits in the \\N{EARTH GLOBE ASIA-AUSTRALIA},')\n",
    "print('but I also like bananas.')"
   ]
  },
  {
   "cell_type": "markdown",
   "metadata": {},
   "source": [
    "**Exercise 2.2.1** Change the cell above so that it prints out:\n",
    "    \n",
    "    I like apples\n",
    "    out of all the fruits in the 🌏, \n",
    "    but I also like bananas."
   ]
  },
  {
   "cell_type": "markdown",
   "metadata": {},
   "source": [
    "<a id='section2.3'></a>\n",
    "### 2.3 Jupyter Notebook Shortcuts"
   ]
  },
  {
   "cell_type": "markdown",
   "metadata": {},
   "source": [
    "   - `esc` - `a`: creates a cell above current cell\n",
    "   - `esc` - `b`: creates a cell below current cell\n",
    "   - `shift` - `enter`: runs a cell"
   ]
  },
  {
   "cell_type": "markdown",
   "metadata": {},
   "source": [
    "**Question 2.3.1** Add a cell below this that prints out:\n",
    "   \n",
    "    Learning to code is fun!!!\n",
    "\n",
    "\n",
    "Practice using the shortcuts. Run your cell to verify that it works. "
   ]
  },
  {
   "cell_type": "markdown",
   "metadata": {},
   "source": [
    "<a id='section3'></a>\n",
    "# Part 3: Numbers\n",
    "In addition to text, Python knows how to intrepret and evaluate numbers. However, when numbers are outputted, any trailing 0 will be cut off. For example, `16.05200` evaluates to the number 16.052.\n",
    "\n",
    "Run the cell below:"
   ]
  },
  {
   "cell_type": "markdown",
   "metadata": {},
   "source": [
    "Notice how we didn't have to use the `print` function. This is because the code evaluated out to be a value which prints automatically. \n",
    "\n",
    "However, it will only print out the last line.\n",
    "\n",
    "Run the cell below:"
   ]
  },
  {
   "cell_type": "code",
   "execution_count": null,
   "metadata": {},
   "outputs": [],
   "source": [
    "16.05200"
   ]
  },
  {
   "cell_type": "code",
   "execution_count": null,
   "metadata": {},
   "outputs": [],
   "source": [
    "122.00500"
   ]
  },
  {
   "cell_type": "code",
   "execution_count": null,
   "metadata": {},
   "outputs": [],
   "source": [
    "print(2)\n",
    "print(4)\n",
    "6"
   ]
  },
  {
   "cell_type": "markdown",
   "metadata": {},
   "source": [
    "**Question 3.0.1.** If you also want to output 4, use the `print` function. Change the cell above to produce an output of 4 and 6."
   ]
  },
  {
   "cell_type": "markdown",
   "metadata": {},
   "source": [
    "<a id='section3.1'></a>\n",
    "### 3.1 Data Types"
   ]
  },
  {
   "cell_type": "markdown",
   "metadata": {},
   "source": [
    "Python has different types of data. Here are some below.\n",
    "1. Numbers: 2.32, 14, 0.55, 100.0\n",
    "2. `string`: \"string\" of characters \n",
    "3. `boolean`: `True/False` \n",
    "\n",
    "You can also convert to different data types when it comes to numbers.\n",
    "1. an `int` is any solid number (EX. 3,15,100)\n",
    "2. a `float` is any number with decimal places (EX. 3.14, 82.0, 100.4) \n",
    "\n",
    "Lets look at some examples:"
   ]
  },
  {
   "cell_type": "code",
   "execution_count": null,
   "metadata": {},
   "outputs": [],
   "source": []
  },
  {
   "cell_type": "code",
   "execution_count": null,
   "metadata": {},
   "outputs": [],
   "source": []
  },
  {
   "cell_type": "code",
   "execution_count": null,
   "metadata": {},
   "outputs": [],
   "source": []
  },
  {
   "cell_type": "code",
   "execution_count": null,
   "metadata": {},
   "outputs": [],
   "source": []
  },
  {
   "cell_type": "markdown",
   "metadata": {},
   "source": [
    "**Question 3.1.1.** For the following cells, determine the type of data set. If it is a number, is it an int or float?"
   ]
  },
  {
   "cell_type": "code",
   "execution_count": null,
   "metadata": {},
   "outputs": [],
   "source": [
    "55.0"
   ]
  },
  {
   "cell_type": "code",
   "execution_count": null,
   "metadata": {},
   "outputs": [],
   "source": [
    "True"
   ]
  },
  {
   "cell_type": "code",
   "execution_count": null,
   "metadata": {},
   "outputs": [],
   "source": [
    "\"I love dogs!!\""
   ]
  },
  {
   "cell_type": "code",
   "execution_count": null,
   "metadata": {},
   "outputs": [],
   "source": [
    "100"
   ]
  },
  {
   "cell_type": "markdown",
   "metadata": {},
   "source": [
    "<a id='section3.2'></a>\n",
    "### 3.2 Basic Arithmetic Operations\n",
    "Lets look at some essential operations that you will be using in the future!"
   ]
  },
  {
   "cell_type": "markdown",
   "metadata": {},
   "source": [
    "Addition: `+`"
   ]
  },
  {
   "cell_type": "code",
   "execution_count": null,
   "metadata": {},
   "outputs": [],
   "source": []
  },
  {
   "cell_type": "markdown",
   "metadata": {},
   "source": [
    "Subtraction: `-`"
   ]
  },
  {
   "cell_type": "code",
   "execution_count": null,
   "metadata": {},
   "outputs": [],
   "source": []
  },
  {
   "cell_type": "markdown",
   "metadata": {},
   "source": [
    "Multiplication: `*`"
   ]
  },
  {
   "cell_type": "code",
   "execution_count": null,
   "metadata": {},
   "outputs": [],
   "source": []
  },
  {
   "cell_type": "markdown",
   "metadata": {},
   "source": [
    "Division: `/`"
   ]
  },
  {
   "cell_type": "code",
   "execution_count": null,
   "metadata": {},
   "outputs": [],
   "source": []
  },
  {
   "cell_type": "markdown",
   "metadata": {},
   "source": [
    "Floor Division: `//`\n",
    "This divides the number and rounds down"
   ]
  },
  {
   "cell_type": "code",
   "execution_count": null,
   "metadata": {},
   "outputs": [],
   "source": []
  },
  {
   "cell_type": "markdown",
   "metadata": {},
   "source": [
    "Remainder: `%`"
   ]
  },
  {
   "cell_type": "code",
   "execution_count": null,
   "metadata": {},
   "outputs": [],
   "source": []
  },
  {
   "cell_type": "markdown",
   "metadata": {},
   "source": [
    "Exponetiation: `**`   (make sure there is no space between `*` and `*`)"
   ]
  },
  {
   "cell_type": "code",
   "execution_count": null,
   "metadata": {},
   "outputs": [],
   "source": []
  },
  {
   "cell_type": "markdown",
   "metadata": {},
   "source": [
    "Like all math, Python has order of operations (PEMDAS). Run the following cell:"
   ]
  },
  {
   "cell_type": "code",
   "execution_count": null,
   "metadata": {},
   "outputs": [],
   "source": [
    "2**3-8*1-6*4*2**2/4*5"
   ]
  },
  {
   "cell_type": "markdown",
   "metadata": {},
   "source": [
    "This is what Python reads for that expression:\n",
    "\n",
    "$$2^3-8 \\times 1-6 \\times 4 \\times \\frac{2^2} {4} \\times 5$$"
   ]
  },
  {
   "cell_type": "markdown",
   "metadata": {},
   "source": [
    "**Question 3.2.1** Write a python expression below that is equal to:\n",
    "\n",
    "$$\\frac{(5 \\times 3)^3 - (\\frac{(7^2)}{4})}{-4} $$\n",
    "\n",
    "Feel free to use parentheses."
   ]
  },
  {
   "cell_type": "code",
   "execution_count": null,
   "metadata": {},
   "outputs": [],
   "source": []
  }
 ],
 "metadata": {
  "kernelspec": {
   "display_name": "Python 3",
   "language": "python",
   "name": "python3"
  },
  "language_info": {
   "codemirror_mode": {
    "name": "ipython",
    "version": 3
   },
   "file_extension": ".py",
   "mimetype": "text/x-python",
   "name": "python",
   "nbconvert_exporter": "python",
   "pygments_lexer": "ipython3",
   "version": "3.6.9"
  }
 },
 "nbformat": 4,
 "nbformat_minor": 4
}
